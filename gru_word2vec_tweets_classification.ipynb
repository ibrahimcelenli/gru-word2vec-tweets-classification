{
 "cells": [
  {
   "cell_type": "code",
   "execution_count": null,
   "metadata": {
    "collapsed": true
   },
   "outputs": [],
   "source": [
    "#Mount your drive account into colab\n",
    "\n",
    "from google.colab import drive\n",
    "drive.mount('/content/drive/')"
   ]
  },
  {
   "cell_type": "code",
   "execution_count": 0,
   "metadata": {
    "colab": {
     "base_uri": "https://localhost:8080/",
     "height": 505
    },
    "colab_type": "code",
    "executionInfo": {
     "elapsed": 2897,
     "status": "ok",
     "timestamp": 1547329154854,
     "user": {
      "displayName": "halil ibrahim çelenli",
      "photoUrl": "https://lh5.googleusercontent.com/-5Qvr42waygs/AAAAAAAAAAI/AAAAAAAAB3U/8_RhbBZokq4/s64/photo.jpg",
      "userId": "10735351276472697566"
     },
     "user_tz": -180
    },
    "id": "j1PLkKUg8UJl",
    "outputId": "0bdbbc4f-559b-49ba-a599-623fe937f9e9"
   },
   "outputs": [
    {
     "data": {
      "text/plain": [
       "[name: \"/device:CPU:0\"\n",
       " device_type: \"CPU\"\n",
       " memory_limit: 268435456\n",
       " locality {\n",
       " }\n",
       " incarnation: 13546188213017850192, name: \"/device:XLA_CPU:0\"\n",
       " device_type: \"XLA_CPU\"\n",
       " memory_limit: 17179869184\n",
       " locality {\n",
       " }\n",
       " incarnation: 788120060344331508\n",
       " physical_device_desc: \"device: XLA_CPU device\", name: \"/device:XLA_GPU:0\"\n",
       " device_type: \"XLA_GPU\"\n",
       " memory_limit: 17179869184\n",
       " locality {\n",
       " }\n",
       " incarnation: 7375896109398190523\n",
       " physical_device_desc: \"device: XLA_GPU device\", name: \"/device:GPU:0\"\n",
       " device_type: \"GPU\"\n",
       " memory_limit: 11281553818\n",
       " locality {\n",
       "   bus_id: 1\n",
       "   links {\n",
       "   }\n",
       " }\n",
       " incarnation: 13080467798599184865\n",
       " physical_device_desc: \"device: 0, name: Tesla K80, pci bus id: 0000:00:04.0, compute capability: 3.7\"]"
      ]
     },
     "execution_count": 3,
     "metadata": {
      "tags": []
     },
     "output_type": "execute_result"
    }
   ],
   "source": [
    "#The machine settings are listed.\n",
    "\n",
    "from tensorflow.python.client import device_lib\n",
    "device_lib.list_local_devices()"
   ]
  },
  {
   "cell_type": "code",
   "execution_count": 0,
   "metadata": {
    "colab": {
     "base_uri": "https://localhost:8080/",
     "height": 35
    },
    "colab_type": "code",
    "executionInfo": {
     "elapsed": 1078,
     "status": "ok",
     "timestamp": 1547329159053,
     "user": {
      "displayName": "halil ibrahim çelenli",
      "photoUrl": "https://lh5.googleusercontent.com/-5Qvr42waygs/AAAAAAAAAAI/AAAAAAAAB3U/8_RhbBZokq4/s64/photo.jpg",
      "userId": "10735351276472697566"
     },
     "user_tz": -180
    },
    "id": "qzhq7KeP8UMb",
    "outputId": "06461507-1ba7-4e33-f23c-1bc7a6d97584"
   },
   "outputs": [
    {
     "data": {
      "text/plain": [
       "'/device:GPU:0'"
      ]
     },
     "execution_count": 4,
     "metadata": {
      "tags": []
     },
     "output_type": "execute_result"
    }
   ],
   "source": [
    "#Check the activated GPU device on remote machine\n",
    "\n",
    "import tensorflow as tf\n",
    "tf.test.gpu_device_name()"
   ]
  },
  {
   "cell_type": "code",
   "execution_count": 0,
   "metadata": {
    "colab": {},
    "colab_type": "code",
    "collapsed": true,
    "id": "n3WnozT58UPW"
   },
   "outputs": [],
   "source": [
    "#Change the directory to your workspace\n",
    "\n",
    "import os\n",
    "os.chdir('/content/drive/My Drive/gru_word2vec_tweets_classification/')"
   ]
  },
  {
   "cell_type": "code",
   "execution_count": 0,
   "metadata": {
    "colab": {
     "base_uri": "https://localhost:8080/",
     "height": 35
    },
    "colab_type": "code",
    "executionInfo": {
     "elapsed": 4318,
     "status": "ok",
     "timestamp": 1547329167966,
     "user": {
      "displayName": "halil ibrahim çelenli",
      "photoUrl": "https://lh5.googleusercontent.com/-5Qvr42waygs/AAAAAAAAAAI/AAAAAAAAB3U/8_RhbBZokq4/s64/photo.jpg",
      "userId": "10735351276472697566"
     },
     "user_tz": -180
    },
    "id": "vzjssbDB8UR9",
    "outputId": "43cb7634-0150-45e3-9bda-b5fa7927569d"
   },
   "outputs": [
    {
     "name": "stdout",
     "output_type": "stream",
     "text": [
      "/content/drive/My Drive/gru_word2vec_tweets_classification\n"
     ]
    }
   ],
   "source": [
    "!pwd"
   ]
  },
  {
   "cell_type": "code",
   "execution_count": 0,
   "metadata": {
    "colab": {
     "base_uri": "https://localhost:8080/",
     "height": 851
    },
    "colab_type": "code",
    "executionInfo": {
     "elapsed": 24290,
     "status": "ok",
     "timestamp": 1547329540588,
     "user": {
      "displayName": "halil ibrahim çelenli",
      "photoUrl": "https://lh5.googleusercontent.com/-5Qvr42waygs/AAAAAAAAAAI/AAAAAAAAB3U/8_RhbBZokq4/s64/photo.jpg",
      "userId": "10735351276472697566"
     },
     "user_tz": -180
    },
    "id": "I4MxNgdSAX6E",
    "outputId": "5a397938-60f8-4bac-8f31-9816b592cb18"
   },
   "outputs": [
    {
     "name": "stdout",
     "output_type": "stream",
     "text": [
      "Requirement already satisfied: tensorflow in /usr/local/lib/python3.6/dist-packages (1.12.0)\n",
      "Requirement already satisfied: grpcio>=1.8.6 in /usr/local/lib/python3.6/dist-packages (from tensorflow) (1.15.0)\n",
      "Requirement already satisfied: six>=1.10.0 in /usr/local/lib/python3.6/dist-packages (from tensorflow) (1.11.0)\n",
      "Requirement already satisfied: keras-applications>=1.0.6 in /usr/local/lib/python3.6/dist-packages (from tensorflow) (1.0.6)\n",
      "Requirement already satisfied: wheel>=0.26 in /usr/local/lib/python3.6/dist-packages (from tensorflow) (0.32.3)\n",
      "Requirement already satisfied: astor>=0.6.0 in /usr/local/lib/python3.6/dist-packages (from tensorflow) (0.7.1)\n",
      "Requirement already satisfied: gast>=0.2.0 in /usr/local/lib/python3.6/dist-packages (from tensorflow) (0.2.1.post0)\n",
      "Requirement already satisfied: termcolor>=1.1.0 in /usr/local/lib/python3.6/dist-packages (from tensorflow) (1.1.0)\n",
      "Requirement already satisfied: absl-py>=0.1.6 in /usr/local/lib/python3.6/dist-packages (from tensorflow) (0.6.1)\n",
      "Requirement already satisfied: numpy>=1.13.3 in /usr/local/lib/python3.6/dist-packages (from tensorflow) (1.14.6)\n",
      "Requirement already satisfied: tensorboard<1.13.0,>=1.12.0 in /usr/local/lib/python3.6/dist-packages (from tensorflow) (1.12.2)\n",
      "Requirement already satisfied: protobuf>=3.6.1 in /usr/local/lib/python3.6/dist-packages (from tensorflow) (3.6.1)\n",
      "Requirement already satisfied: keras-preprocessing>=1.0.5 in /usr/local/lib/python3.6/dist-packages (from tensorflow) (1.0.5)\n",
      "Requirement already satisfied: h5py in /usr/local/lib/python3.6/dist-packages (from keras-applications>=1.0.6->tensorflow) (2.8.0)\n",
      "Requirement already satisfied: werkzeug>=0.11.10 in /usr/local/lib/python3.6/dist-packages (from tensorboard<1.13.0,>=1.12.0->tensorflow) (0.14.1)\n",
      "Requirement already satisfied: markdown>=2.6.8 in /usr/local/lib/python3.6/dist-packages (from tensorboard<1.13.0,>=1.12.0->tensorflow) (3.0.1)\n",
      "Requirement already satisfied: setuptools in /usr/local/lib/python3.6/dist-packages (from protobuf>=3.6.1->tensorflow) (40.6.3)\n",
      "Requirement already satisfied: scikit-learn in /usr/local/lib/python3.6/dist-packages (0.20.2)\n",
      "Requirement already satisfied: scipy>=0.13.3 in /usr/local/lib/python3.6/dist-packages (from scikit-learn) (1.1.0)\n",
      "Requirement already satisfied: numpy>=1.8.2 in /usr/local/lib/python3.6/dist-packages (from scikit-learn) (1.14.6)\n",
      "Collecting gensim==3.5.0\n",
      "\u001b[?25l  Downloading https://files.pythonhosted.org/packages/86/f3/37504f07651330ddfdefa631ca5246974a60d0908216539efda842fd080f/gensim-3.5.0-cp36-cp36m-manylinux1_x86_64.whl (23.5MB)\n",
      "\u001b[K    100% |████████████████████████████████| 23.5MB 1.6MB/s \n",
      "\u001b[?25hRequirement already satisfied: scipy>=0.18.1 in /usr/local/lib/python3.6/dist-packages (from gensim==3.5.0) (1.1.0)\n",
      "Requirement already satisfied: six>=1.5.0 in /usr/local/lib/python3.6/dist-packages (from gensim==3.5.0) (1.11.0)\n",
      "Requirement already satisfied: smart-open>=1.2.1 in /usr/local/lib/python3.6/dist-packages (from gensim==3.5.0) (1.7.1)\n",
      "Requirement already satisfied: numpy>=1.11.3 in /usr/local/lib/python3.6/dist-packages (from gensim==3.5.0) (1.14.6)\n",
      "Requirement already satisfied: boto>=2.32 in /usr/local/lib/python3.6/dist-packages (from smart-open>=1.2.1->gensim==3.5.0) (2.49.0)\n",
      "Requirement already satisfied: bz2file in /usr/local/lib/python3.6/dist-packages (from smart-open>=1.2.1->gensim==3.5.0) (0.98)\n",
      "Requirement already satisfied: requests in /usr/local/lib/python3.6/dist-packages (from smart-open>=1.2.1->gensim==3.5.0) (2.18.4)\n",
      "Requirement already satisfied: boto3 in /usr/local/lib/python3.6/dist-packages (from smart-open>=1.2.1->gensim==3.5.0) (1.9.75)\n",
      "Requirement already satisfied: chardet<3.1.0,>=3.0.2 in /usr/local/lib/python3.6/dist-packages (from requests->smart-open>=1.2.1->gensim==3.5.0) (3.0.4)\n",
      "Requirement already satisfied: urllib3<1.23,>=1.21.1 in /usr/local/lib/python3.6/dist-packages (from requests->smart-open>=1.2.1->gensim==3.5.0) (1.22)\n",
      "Requirement already satisfied: idna<2.7,>=2.5 in /usr/local/lib/python3.6/dist-packages (from requests->smart-open>=1.2.1->gensim==3.5.0) (2.6)\n",
      "Requirement already satisfied: certifi>=2017.4.17 in /usr/local/lib/python3.6/dist-packages (from requests->smart-open>=1.2.1->gensim==3.5.0) (2018.11.29)\n",
      "Requirement already satisfied: botocore<1.13.0,>=1.12.75 in /usr/local/lib/python3.6/dist-packages (from boto3->smart-open>=1.2.1->gensim==3.5.0) (1.12.75)\n",
      "Requirement already satisfied: s3transfer<0.2.0,>=0.1.10 in /usr/local/lib/python3.6/dist-packages (from boto3->smart-open>=1.2.1->gensim==3.5.0) (0.1.13)\n",
      "Requirement already satisfied: jmespath<1.0.0,>=0.7.1 in /usr/local/lib/python3.6/dist-packages (from boto3->smart-open>=1.2.1->gensim==3.5.0) (0.9.3)\n",
      "Requirement already satisfied: docutils>=0.10 in /usr/local/lib/python3.6/dist-packages (from botocore<1.13.0,>=1.12.75->boto3->smart-open>=1.2.1->gensim==3.5.0) (0.14)\n",
      "Requirement already satisfied: python-dateutil<3.0.0,>=2.1; python_version >= \"2.7\" in /usr/local/lib/python3.6/dist-packages (from botocore<1.13.0,>=1.12.75->boto3->smart-open>=1.2.1->gensim==3.5.0) (2.5.3)\n",
      "Installing collected packages: gensim\n",
      "  Found existing installation: gensim 3.6.0\n",
      "    Uninstalling gensim-3.6.0:\n",
      "      Successfully uninstalled gensim-3.6.0\n",
      "Successfully installed gensim-3.5.0\n"
     ]
    }
   ],
   "source": [
    "#Install  tenserflow,keras,scikit-learn and gensim in remote machine\n",
    "\n",
    "!pip install tensorflow\n",
    "!pip install -q keras\n",
    "!pip install scikit-learn\n",
    "!pip install gensim==3.5.0"
   ]
  },
  {
   "cell_type": "code",
   "execution_count": 0,
   "metadata": {
    "colab": {},
    "colab_type": "code",
    "collapsed": true,
    "id": "T00vD3j4CBvY"
   },
   "outputs": [],
   "source": [
    "#Import modules & set up logging"
   ]
  },
  {
   "cell_type": "code",
   "execution_count": 0,
   "metadata": {
    "colab": {},
    "colab_type": "code",
    "collapsed": true,
    "id": "Nj8uR6uv8Ubc"
   },
   "outputs": [],
   "source": [
    "import numpy as np\n",
    "import pandas as pd"
   ]
  },
  {
   "cell_type": "code",
   "execution_count": 0,
   "metadata": {
    "colab": {},
    "colab_type": "code",
    "collapsed": true,
    "id": "7n5amC_H8UdW"
   },
   "outputs": [],
   "source": [
    "from tensorflow.python.keras.models import Sequential\n",
    "from tensorflow.python.keras.models import Model\n",
    "from tensorflow.python.keras.layers import Input, Dense, GRU, Embedding, CuDNNGRU\n",
    "from tensorflow.python.keras.optimizers import RMSprop\n",
    "from tensorflow.python.keras.callbacks import ModelCheckpoint\n",
    "from tensorflow.python.keras.optimizers import Adam\n",
    "from tensorflow.python.keras.preprocessing.text import Tokenizer\n",
    "from tensorflow.python.keras.preprocessing.sequence import pad_sequences"
   ]
  },
  {
   "cell_type": "code",
   "execution_count": 0,
   "metadata": {
    "colab": {},
    "colab_type": "code",
    "collapsed": true,
    "id": "DkvtMbYm8UfN"
   },
   "outputs": [],
   "source": [
    "from sklearn.pipeline import Pipeline\n",
    "from sklearn.svm import LinearSVC\n",
    "from sklearn.metrics import classification_report, f1_score, confusion_matrix\n",
    "from sklearn.model_selection import cross_val_score, train_test_split\n",
    "from sklearn.naive_bayes import MultinomialNB\n",
    "from sklearn.feature_extraction.text import TfidfVectorizer\n",
    "from sklearn.feature_extraction.text import CountVectorizer\n",
    "from sklearn.metrics import classification_report, f1_score, accuracy_score, confusion_matrix"
   ]
  },
  {
   "cell_type": "code",
   "execution_count": 0,
   "metadata": {
    "colab": {},
    "colab_type": "code",
    "collapsed": true,
    "id": "aPS1Ly7e8Ug5"
   },
   "outputs": [],
   "source": [
    "import gensim, logging\n",
    "\n",
    "logging.basicConfig(format='%(asctime)s : %(levelname)s : %(message)s', level=logging.INFO)\n",
    "import time\n",
    "\n",
    "from gensim.models.word2vec import Word2Vec\n",
    "from glob import glob"
   ]
  },
  {
   "cell_type": "code",
   "execution_count": 0,
   "metadata": {
    "colab": {
     "base_uri": "https://localhost:8080/",
     "height": 53
    },
    "colab_type": "code",
    "executionInfo": {
     "elapsed": 734597,
     "status": "ok",
     "timestamp": 1547330384807,
     "user": {
      "displayName": "halil ibrahim çelenli",
      "photoUrl": "https://lh5.googleusercontent.com/-5Qvr42waygs/AAAAAAAAAAI/AAAAAAAAB3U/8_RhbBZokq4/s64/photo.jpg",
      "userId": "10735351276472697566"
     },
     "user_tz": -180
    },
    "id": "L6atIZAj8Uj-",
    "outputId": "26462756-ab6b-4f4a-a818-ffa34ad4fcc3"
   },
   "outputs": [
    {
     "name": "stdout",
     "output_type": "stream",
     "text": [
      "3000 tweet  :   3000\n",
      "3000 label  :   3000\n"
     ]
    }
   ],
   "source": [
    "#Data load\n",
    "\n",
    "tweet_list = []\n",
    "label_list = []\n",
    "\n",
    "for index, file in enumerate(glob('3000tweet/raw_texts/**/*.txt', recursive=True)):                                                                 # labels\n",
    "    label_list.append(file.split(\"/\")[-2]),                                                                 # labels\n",
    "    tweet_list.append((open(file, encoding=\"windows-1254\").read().replace('\\n', ' ').strip().lower()))      # tweets\n",
    "\n",
    "print(\"3000 tweet  :  \", len(tweet_list))\n",
    "print(\"3000 label  :  \", len(label_list))\n"
   ]
  },
  {
   "cell_type": "code",
   "execution_count": 0,
   "metadata": {
    "colab": {
     "base_uri": "https://localhost:8080/",
     "height": 89
    },
    "colab_type": "code",
    "executionInfo": {
     "elapsed": 1097,
     "status": "ok",
     "timestamp": 1547330419492,
     "user": {
      "displayName": "halil ibrahim çelenli",
      "photoUrl": "https://lh5.googleusercontent.com/-5Qvr42waygs/AAAAAAAAAAI/AAAAAAAAB3U/8_RhbBZokq4/s64/photo.jpg",
      "userId": "10735351276472697566"
     },
     "user_tz": -180
    },
    "id": "pqyhnomk8UmZ",
    "outputId": "40b5f0c0-42af-423c-fd72-1728ace07666"
   },
   "outputs": [
    {
     "name": "stdout",
     "output_type": "stream",
     "text": [
      "sum data :  3000\n",
      "1.class :  756\n",
      "2.class :  1287\n",
      "3.class :  957\n"
     ]
    }
   ],
   "source": [
    "print(\"sum data : \",len(label_list))\n",
    "value1 = [i for i in label_list if i in '1']\n",
    "value2 = [i for i in label_list if i in '2']\n",
    "value3 = [i for i in label_list if i in '3']\n",
    "print(\"1.class : \",len(value1))\n",
    "print(\"2.class : \",len(value2))\n",
    "print(\"3.class : \",len(value3))"
   ]
  },
  {
   "cell_type": "code",
   "execution_count": 0,
   "metadata": {
    "colab": {
     "base_uri": "https://localhost:8080/",
     "height": 35
    },
    "colab_type": "code",
    "executionInfo": {
     "elapsed": 1073,
     "status": "ok",
     "timestamp": 1547330422988,
     "user": {
      "displayName": "halil ibrahim çelenli",
      "photoUrl": "https://lh5.googleusercontent.com/-5Qvr42waygs/AAAAAAAAAAI/AAAAAAAAB3U/8_RhbBZokq4/s64/photo.jpg",
      "userId": "10735351276472697566"
     },
     "user_tz": -180
    },
    "id": "jBW6b3EP8UoX",
    "outputId": "c11692e3-2094-4997-ce0b-31d19a4f334b"
   },
   "outputs": [
    {
     "data": {
      "text/plain": [
       "'hayat paylaşınca güzel ;)'"
      ]
     },
     "execution_count": 15,
     "metadata": {
      "tags": []
     },
     "output_type": "execute_result"
    }
   ],
   "source": [
    "tweet_list[0]"
   ]
  },
  {
   "cell_type": "code",
   "execution_count": 0,
   "metadata": {
    "colab": {},
    "colab_type": "code",
    "collapsed": true,
    "id": "r9fR8GkK8Uqj"
   },
   "outputs": [],
   "source": [
    "#Preprocessing\n",
    "\n",
    "#import Stemmer\n",
    "import re\n",
    "\n",
    "\n",
    "def splitIntoStem(message):\n",
    "\n",
    "    \n",
    "    return [removeNumeric(stripEmoji(singleCharacterRemove(removePunctuation\n",
    "                                                           (removeHyperlinks\n",
    "                                                            (removeHashtags\n",
    "                                                             (removeUsernames\n",
    "                                                              (stemWord(word)))))))) for word in message.split()]\n",
    "def stemWord(tweet):\n",
    "\n",
    "    ################################## for turkish   => !pip install snowballstemmer\n",
    "    #stemmer = Stemmer.Stemmer('turkish')                      \n",
    "    #return stemmer.stemWord(tweet).lower()\n",
    "    \n",
    "    return tweet.lower()\n",
    "\n",
    "#Remove usernames\n",
    "def removeUsernames(tweet):\n",
    "    return re.sub('@[^\\s]+', '', tweet)\n",
    "\n",
    "\n",
    "#Remove hashtag\n",
    "def removeHashtags(tweet):\n",
    "    return re.sub(r'#[^\\s]+', '', tweet)\n",
    "\n",
    "#Remove link\n",
    "def removeHyperlinks(tweet):\n",
    "    return re.sub('((www\\.[^\\s]+)|(https?://[^\\s]+))', '', tweet)\n",
    "\n",
    "#Remove numeric character\n",
    "def removeNumeric(value):\n",
    "    blist2 = [item for item in value if not item.isdigit()]\n",
    "    blist3 = \"\".join(blist2)\n",
    "    return blist3\n",
    "\n",
    "#Remove punctuation\n",
    "def removePunctuation(tweet):\n",
    "\n",
    "    return re.sub(r'[^\\w\\s]','',tweet)\n",
    "\n",
    "#Remove single character\n",
    "def singleCharacterRemove(tweet):\n",
    "    return re.sub(r'(?:^| )\\w(?:$| )', ' ', tweet)\n",
    "\n",
    "#Remove emoji\n",
    "def stripEmoji(text):\n",
    "\n",
    "    RE_EMOJI = re.compile('[\\U00010000-\\U0010ffff]', flags=re.UNICODE)\n",
    "    return RE_EMOJI.sub(r'', text)"
   ]
  },
  {
   "cell_type": "code",
   "execution_count": 0,
   "metadata": {
    "colab": {},
    "colab_type": "code",
    "collapsed": true,
    "id": "Nyj25P8_8UsU"
   },
   "outputs": [],
   "source": [
    "for i,k in enumerate(tweet_list):\n",
    "    tweet_list[i] = \" \".join(splitIntoStem(k)).split()"
   ]
  },
  {
   "cell_type": "code",
   "execution_count": 0,
   "metadata": {
    "colab": {
     "base_uri": "https://localhost:8080/",
     "height": 35
    },
    "colab_type": "code",
    "executionInfo": {
     "elapsed": 1094,
     "status": "ok",
     "timestamp": 1547330452329,
     "user": {
      "displayName": "halil ibrahim çelenli",
      "photoUrl": "https://lh5.googleusercontent.com/-5Qvr42waygs/AAAAAAAAAAI/AAAAAAAAB3U/8_RhbBZokq4/s64/photo.jpg",
      "userId": "10735351276472697566"
     },
     "user_tz": -180
    },
    "id": "uFPVomgZ8UuO",
    "outputId": "8d267fda-13a1-4d0d-8a46-5b815fea546c"
   },
   "outputs": [
    {
     "data": {
      "text/plain": [
       "['hayat', 'paylaşınca', 'güzel']"
      ]
     },
     "execution_count": 19,
     "metadata": {
      "tags": []
     },
     "output_type": "execute_result"
    }
   ],
   "source": [
    "tweet_list[0]"
   ]
  },
  {
   "cell_type": "code",
   "execution_count": 0,
   "metadata": {
    "colab": {
     "base_uri": "https://localhost:8080/",
     "height": 71
    },
    "colab_type": "code",
    "executionInfo": {
     "elapsed": 1447,
     "status": "ok",
     "timestamp": 1547330479672,
     "user": {
      "displayName": "halil ibrahim çelenli",
      "photoUrl": "https://lh5.googleusercontent.com/-5Qvr42waygs/AAAAAAAAAAI/AAAAAAAAB3U/8_RhbBZokq4/s64/photo.jpg",
      "userId": "10735351276472697566"
     },
     "user_tz": -180
    },
    "id": "tFkrMXYjFTyr",
    "outputId": "e0d41861-4c24-42f2-8eab-a402c31db869"
   },
   "outputs": [
    {
     "name": "stdout",
     "output_type": "stream",
     "text": [
      "[nltk_data] Downloading package stopwords to /root/nltk_data...\n",
      "[nltk_data]   Unzipping corpora/stopwords.zip.\n"
     ]
    },
    {
     "data": {
      "text/plain": [
       "True"
      ]
     },
     "execution_count": 21,
     "metadata": {
      "tags": []
     },
     "output_type": "execute_result"
    }
   ],
   "source": [
    "import nltk\n",
    "nltk.download('stopwords')"
   ]
  },
  {
   "cell_type": "code",
   "execution_count": 0,
   "metadata": {
    "colab": {
     "base_uri": "https://localhost:8080/",
     "height": 55
    },
    "colab_type": "code",
    "executionInfo": {
     "elapsed": 1059,
     "status": "ok",
     "timestamp": 1547330516737,
     "user": {
      "displayName": "halil ibrahim çelenli",
      "photoUrl": "https://lh5.googleusercontent.com/-5Qvr42waygs/AAAAAAAAAAI/AAAAAAAAB3U/8_RhbBZokq4/s64/photo.jpg",
      "userId": "10735351276472697566"
     },
     "user_tz": -180
    },
    "id": "brAljrgU8Ule",
    "outputId": "b577a632-35d2-47b0-9f50-724228218a30"
   },
   "outputs": [
    {
     "name": "stdout",
     "output_type": "stream",
     "text": [
      "stop_words :  ['acaba', 'ama', 'aslında', 'az', 'bazı', 'belki', 'biri', 'birkaç', 'birşey', 'biz', 'bu', 'çok', 'çünkü', 'da', 'daha', 'de', 'defa', 'diye', 'eğer', 'en', 'gibi', 'hem', 'hep', 'hepsi', 'her', 'hiç', 'için', 'ile', 'ise', 'kez', 'ki', 'kim', 'mı', 'mu', 'mü', 'nasıl', 'ne', 'neden', 'nerde', 'nerede', 'nereye', 'niçin', 'niye', 'o', 'sanki', 'şey', 'siz', 'şu', 'tüm', 've', 'veya', 'ya', 'yani', 'bir', 'iki', 'üç', 'dört', 'beş', 'altı', 'yedi', 'sekiz', 'dokuz', 'on']\n"
     ]
    }
   ],
   "source": [
    "#Remove stopwords\n",
    "\n",
    "from nltk.corpus import stopwords\n",
    "\n",
    "\n",
    "def removeStopWords(tweet_list):\n",
    "    \n",
    "    filtered_stopwords = []\n",
    "    filtered_stopwords_list = []\n",
    "    \n",
    "    stop_words = stopwords.words('turkish')\n",
    "\n",
    "    stop_words.append(\"bir\")\n",
    "    stop_words.append(\"iki\")\n",
    "    stop_words.append(\"üç\")\n",
    "    stop_words.append(\"dört\")\n",
    "    stop_words.append(\"beş\")\n",
    "    stop_words.append(\"altı\")\n",
    "    stop_words.append(\"yedi\")\n",
    "    stop_words.append(\"sekiz\")\n",
    "    stop_words.append(\"dokuz\")\n",
    "    stop_words.append(\"on\")\n",
    "    \n",
    "    print(\"stop_words : \",stop_words)\n",
    "    \n",
    "    for i in tweet_list:\n",
    "        filtered_sentence = [w for w in i if not w in stop_words]\n",
    "        filtered_stopwords_list.append(filtered_sentence)                         #return list value\n",
    "        filtered_stopwords.append(\" \".join(filtered_sentence))                    #return string value\n",
    "    \n",
    "    return filtered_stopwords,filtered_stopwords_list                                      \n",
    "\n",
    "\n",
    "tweet_list,filtered_stopwords_list = removeStopWords(tweet_list)"
   ]
  },
  {
   "cell_type": "code",
   "execution_count": 0,
   "metadata": {
    "colab": {
     "base_uri": "https://localhost:8080/",
     "height": 35
    },
    "colab_type": "code",
    "executionInfo": {
     "elapsed": 1096,
     "status": "ok",
     "timestamp": 1547330520835,
     "user": {
      "displayName": "halil ibrahim çelenli",
      "photoUrl": "https://lh5.googleusercontent.com/-5Qvr42waygs/AAAAAAAAAAI/AAAAAAAAB3U/8_RhbBZokq4/s64/photo.jpg",
      "userId": "10735351276472697566"
     },
     "user_tz": -180
    },
    "id": "8SSOY04f8Ui-",
    "outputId": "e3da3e3b-d646-4c28-9ab8-61e0f86ad2a6"
   },
   "outputs": [
    {
     "data": {
      "text/plain": [
       "'hayat paylaşınca güzel'"
      ]
     },
     "execution_count": 24,
     "metadata": {
      "tags": []
     },
     "output_type": "execute_result"
    }
   ],
   "source": [
    "tweet_list[0]"
   ]
  },
  {
   "cell_type": "code",
   "execution_count": 0,
   "metadata": {
    "colab": {
     "base_uri": "https://localhost:8080/",
     "height": 35
    },
    "colab_type": "code",
    "executionInfo": {
     "elapsed": 1070,
     "status": "ok",
     "timestamp": 1547330523588,
     "user": {
      "displayName": "halil ibrahim çelenli",
      "photoUrl": "https://lh5.googleusercontent.com/-5Qvr42waygs/AAAAAAAAAAI/AAAAAAAAB3U/8_RhbBZokq4/s64/photo.jpg",
      "userId": "10735351276472697566"
     },
     "user_tz": -180
    },
    "id": "tfxq8GIu8_gq",
    "outputId": "557395d3-2cf7-4dbe-fd4e-51c554511714"
   },
   "outputs": [
    {
     "data": {
      "text/plain": [
       "['hayat', 'paylaşınca', 'güzel']"
      ]
     },
     "execution_count": 25,
     "metadata": {
      "tags": []
     },
     "output_type": "execute_result"
    }
   ],
   "source": [
    "filtered_stopwords_list[0]"
   ]
  },
  {
   "cell_type": "code",
   "execution_count": 0,
   "metadata": {
    "colab": {
     "base_uri": "https://localhost:8080/",
     "height": 206
    },
    "colab_type": "code",
    "executionInfo": {
     "elapsed": 869,
     "status": "ok",
     "timestamp": 1547330529803,
     "user": {
      "displayName": "halil ibrahim çelenli",
      "photoUrl": "https://lh5.googleusercontent.com/-5Qvr42waygs/AAAAAAAAAAI/AAAAAAAAB3U/8_RhbBZokq4/s64/photo.jpg",
      "userId": "10735351276472697566"
     },
     "user_tz": -180
    },
    "id": "3OD2YVTw8_jT",
    "outputId": "52212d76-763b-4087-bcb2-65b9dfdbd71b"
   },
   "outputs": [
    {
     "data": {
      "text/html": [
       "<div>\n",
       "<style scoped>\n",
       "    .dataframe tbody tr th:only-of-type {\n",
       "        vertical-align: middle;\n",
       "    }\n",
       "\n",
       "    .dataframe tbody tr th {\n",
       "        vertical-align: top;\n",
       "    }\n",
       "\n",
       "    .dataframe thead th {\n",
       "        text-align: right;\n",
       "    }\n",
       "</style>\n",
       "<table border=\"1\" class=\"dataframe\">\n",
       "  <thead>\n",
       "    <tr style=\"text-align: right;\">\n",
       "      <th></th>\n",
       "      <th>label</th>\n",
       "      <th>tweet</th>\n",
       "    </tr>\n",
       "  </thead>\n",
       "  <tbody>\n",
       "    <tr>\n",
       "      <th>0</th>\n",
       "      <td>1</td>\n",
       "      <td>hayat paylaşınca güzel</td>\n",
       "    </tr>\n",
       "    <tr>\n",
       "      <th>1</th>\n",
       "      <td>1</td>\n",
       "      <td>hayat kesinlikle paylaşınca güzel</td>\n",
       "    </tr>\n",
       "    <tr>\n",
       "      <th>2</th>\n",
       "      <td>1</td>\n",
       "      <td>beni unutmayan tek adam turkcell</td>\n",
       "    </tr>\n",
       "    <tr>\n",
       "      <th>3</th>\n",
       "      <td>1</td>\n",
       "      <td>ozaman senin karsına cıkan denyoların türkcell...</td>\n",
       "    </tr>\n",
       "    <tr>\n",
       "      <th>4</th>\n",
       "      <td>1</td>\n",
       "      <td>manganın anda turkcell internetinde verdigi ko...</td>\n",
       "    </tr>\n",
       "  </tbody>\n",
       "</table>\n",
       "</div>"
      ],
      "text/plain": [
       "  label                                              tweet\n",
       "0     1                             hayat paylaşınca güzel\n",
       "1     1                  hayat kesinlikle paylaşınca güzel\n",
       "2     1                   beni unutmayan tek adam turkcell\n",
       "3     1  ozaman senin karsına cıkan denyoların türkcell...\n",
       "4     1  manganın anda turkcell internetinde verdigi ko..."
      ]
     },
     "execution_count": 26,
     "metadata": {
      "tags": []
     },
     "output_type": "execute_result"
    }
   ],
   "source": [
    "import pandas as pd \n",
    "\n",
    "daf = pd.DataFrame({\"tweet\":tweet_list,\"label\":label_list})\n",
    "daf.head()"
   ]
  },
  {
   "cell_type": "code",
   "execution_count": 0,
   "metadata": {
    "colab": {
     "base_uri": "https://localhost:8080/",
     "height": 35
    },
    "colab_type": "code",
    "executionInfo": {
     "elapsed": 1073,
     "status": "ok",
     "timestamp": 1547330533630,
     "user": {
      "displayName": "halil ibrahim çelenli",
      "photoUrl": "https://lh5.googleusercontent.com/-5Qvr42waygs/AAAAAAAAAAI/AAAAAAAAB3U/8_RhbBZokq4/s64/photo.jpg",
      "userId": "10735351276472697566"
     },
     "user_tz": -180
    },
    "id": "CBFPw_4o8_l-",
    "outputId": "2474ab7a-6e25-428e-a63e-bb3139bef613"
   },
   "outputs": [
    {
     "data": {
      "text/plain": [
       "'hayat paylaşınca güzel'"
      ]
     },
     "execution_count": 27,
     "metadata": {
      "tags": []
     },
     "output_type": "execute_result"
    }
   ],
   "source": [
    "daf.iloc[0][1]"
   ]
  },
  {
   "cell_type": "code",
   "execution_count": 0,
   "metadata": {
    "colab": {},
    "colab_type": "code",
    "collapsed": true,
    "id": "QGKPYDLB8_oh"
   },
   "outputs": [],
   "source": [
    "target = daf['label'].values.tolist()\n",
    "data = daf['tweet'].values.tolist()"
   ]
  },
  {
   "cell_type": "code",
   "execution_count": 0,
   "metadata": {
    "colab": {},
    "colab_type": "code",
    "collapsed": true,
    "id": "d3t82cH78_rJ"
   },
   "outputs": [],
   "source": [
    "x_train, x_test, y_train, y_test = \\\n",
    "    train_test_split(data,target, test_size=0.2)  # random split"
   ]
  },
  {
   "cell_type": "code",
   "execution_count": 0,
   "metadata": {
    "colab": {
     "base_uri": "https://localhost:8080/",
     "height": 53
    },
    "colab_type": "code",
    "executionInfo": {
     "elapsed": 843,
     "status": "ok",
     "timestamp": 1547330541709,
     "user": {
      "displayName": "halil ibrahim çelenli",
      "photoUrl": "https://lh5.googleusercontent.com/-5Qvr42waygs/AAAAAAAAAAI/AAAAAAAAB3U/8_RhbBZokq4/s64/photo.jpg",
      "userId": "10735351276472697566"
     },
     "user_tz": -180
    },
    "id": "XRp_pMiU8_te",
    "outputId": "1d957292-4631-49c8-c910-3d8b3d9d0b46"
   },
   "outputs": [
    {
     "name": "stdout",
     "output_type": "stream",
     "text": [
      "x_train : 2400\n",
      "x_test : 600\n"
     ]
    }
   ],
   "source": [
    "print(\"x_train :\",len(x_train))\n",
    "print(\"x_test :\",len(x_test))"
   ]
  },
  {
   "cell_type": "code",
   "execution_count": 0,
   "metadata": {
    "colab": {
     "base_uri": "https://localhost:8080/",
     "height": 35
    },
    "colab_type": "code",
    "executionInfo": {
     "elapsed": 867,
     "status": "ok",
     "timestamp": 1547330544649,
     "user": {
      "displayName": "halil ibrahim çelenli",
      "photoUrl": "https://lh5.googleusercontent.com/-5Qvr42waygs/AAAAAAAAAAI/AAAAAAAAB3U/8_RhbBZokq4/s64/photo.jpg",
      "userId": "10735351276472697566"
     },
     "user_tz": -180
    },
    "id": "YUorHo8l8_v5",
    "outputId": "82162d69-6ab0-4835-94f3-eb5be26c1d90"
   },
   "outputs": [
    {
     "data": {
      "text/plain": [
       "'benim sorduğunuz tahmin sorularına yaklaşamayışım olacak kadar kötü tahmin yapan başkası var'"
      ]
     },
     "execution_count": 31,
     "metadata": {
      "tags": []
     },
     "output_type": "execute_result"
    }
   ],
   "source": [
    "x_train[800]"
   ]
  },
  {
   "cell_type": "code",
   "execution_count": 0,
   "metadata": {
    "colab": {
     "base_uri": "https://localhost:8080/",
     "height": 35
    },
    "colab_type": "code",
    "executionInfo": {
     "elapsed": 880,
     "status": "ok",
     "timestamp": 1547330547620,
     "user": {
      "displayName": "halil ibrahim çelenli",
      "photoUrl": "https://lh5.googleusercontent.com/-5Qvr42waygs/AAAAAAAAAAI/AAAAAAAAB3U/8_RhbBZokq4/s64/photo.jpg",
      "userId": "10735351276472697566"
     },
     "user_tz": -180
    },
    "id": "l-Iier7B8_yN",
    "outputId": "dac19ab6-eb5a-4ca2-d186-00a99a1fc242"
   },
   "outputs": [
    {
     "data": {
      "text/plain": [
       "'3'"
      ]
     },
     "execution_count": 32,
     "metadata": {
      "tags": []
     },
     "output_type": "execute_result"
    }
   ],
   "source": [
    "y_train[800]"
   ]
  },
  {
   "cell_type": "code",
   "execution_count": 0,
   "metadata": {
    "colab": {
     "base_uri": "https://localhost:8080/",
     "height": 35
    },
    "colab_type": "code",
    "executionInfo": {
     "elapsed": 1096,
     "status": "ok",
     "timestamp": 1547330552998,
     "user": {
      "displayName": "halil ibrahim çelenli",
      "photoUrl": "https://lh5.googleusercontent.com/-5Qvr42waygs/AAAAAAAAAAI/AAAAAAAAB3U/8_RhbBZokq4/s64/photo.jpg",
      "userId": "10735351276472697566"
     },
     "user_tz": -180
    },
    "id": "OGZS3vZ99JfA",
    "outputId": "d7ee4f23-9e12-4d74-b2b1-5306eb361cb7"
   },
   "outputs": [
    {
     "data": {
      "text/plain": [
       "<keras_preprocessing.text.Tokenizer at 0x7fe5dfb88c88>"
      ]
     },
     "execution_count": 33,
     "metadata": {
      "tags": []
     },
     "output_type": "execute_result"
    }
   ],
   "source": [
    "tokenizer = Tokenizer()             #Tokenizer(num_words=5000) => 5000 words of the highest frequency\n",
    "tokenizer.fit_on_texts(data)\n",
    "tokenizer "
   ]
  },
  {
   "cell_type": "code",
   "execution_count": 0,
   "metadata": {
    "colab": {
     "base_uri": "https://localhost:8080/",
     "height": 198
    },
    "colab_type": "code",
    "executionInfo": {
     "elapsed": 1059,
     "status": "ok",
     "timestamp": 1547330576247,
     "user": {
      "displayName": "halil ibrahim çelenli",
      "photoUrl": "https://lh5.googleusercontent.com/-5Qvr42waygs/AAAAAAAAAAI/AAAAAAAAB3U/8_RhbBZokq4/s64/photo.jpg",
      "userId": "10735351276472697566"
     },
     "user_tz": -180
    },
    "id": "XyLjU_ew9xZy",
    "outputId": "f7b9f246-9099-4227-8000-7e5e20b7e6b3"
   },
   "outputs": [
    {
     "data": {
      "text/plain": [
       "['turkcell',\n",
       " 'mesaj',\n",
       " 'güzel',\n",
       " 'bi',\n",
       " 'hayat',\n",
       " 'ben',\n",
       " 'var',\n",
       " 'paylaşınca',\n",
       " 'superonline',\n",
       " 'mi']"
      ]
     },
     "execution_count": 36,
     "metadata": {
      "tags": []
     },
     "output_type": "execute_result"
    }
   ],
   "source": [
    "list(tokenizer.word_index)[0:10]"
   ]
  },
  {
   "cell_type": "code",
   "execution_count": 0,
   "metadata": {
    "colab": {
     "base_uri": "https://localhost:8080/",
     "height": 35
    },
    "colab_type": "code",
    "executionInfo": {
     "elapsed": 1563,
     "status": "ok",
     "timestamp": 1547330588696,
     "user": {
      "displayName": "halil ibrahim çelenli",
      "photoUrl": "https://lh5.googleusercontent.com/-5Qvr42waygs/AAAAAAAAAAI/AAAAAAAAB3U/8_RhbBZokq4/s64/photo.jpg",
      "userId": "10735351276472697566"
     },
     "user_tz": -180
    },
    "id": "Gph6BPOy9Jht",
    "outputId": "01bcb5f8-1111-4ff8-eff8-c1f728ca75ed"
   },
   "outputs": [
    {
     "name": "stdout",
     "output_type": "stream",
     "text": [
      "len(tokenizer) : 11905\n"
     ]
    }
   ],
   "source": [
    "print(\"len(tokenizer) :\",len(list(tokenizer.word_index)))"
   ]
  },
  {
   "cell_type": "code",
   "execution_count": 0,
   "metadata": {
    "colab": {},
    "colab_type": "code",
    "collapsed": true,
    "id": "K66zUglO9JkF"
   },
   "outputs": [],
   "source": [
    "#Training set token with text_to_sequences.\n",
    "\n",
    "x_train_tokens = tokenizer.texts_to_sequences(x_train)"
   ]
  },
  {
   "cell_type": "code",
   "execution_count": 0,
   "metadata": {
    "colab": {
     "base_uri": "https://localhost:8080/",
     "height": 35
    },
    "colab_type": "code",
    "executionInfo": {
     "elapsed": 1431,
     "status": "ok",
     "timestamp": 1547330716660,
     "user": {
      "displayName": "halil ibrahim çelenli",
      "photoUrl": "https://lh5.googleusercontent.com/-5Qvr42waygs/AAAAAAAAAAI/AAAAAAAAB3U/8_RhbBZokq4/s64/photo.jpg",
      "userId": "10735351276472697566"
     },
     "user_tz": -180
    },
    "id": "lgX_1LMB9JnC",
    "outputId": "e6e896cc-4193-4345-9c86-772456d5249d"
   },
   "outputs": [
    {
     "data": {
      "text/plain": [
       "'benim sorduğunuz tahmin sorularına yaklaşamayışım olacak kadar kötü tahmin yapan başkası var'"
      ]
     },
     "execution_count": 39,
     "metadata": {
      "tags": []
     },
     "output_type": "execute_result"
    }
   ],
   "source": [
    "x_train[800]"
   ]
  },
  {
   "cell_type": "code",
   "execution_count": 0,
   "metadata": {
    "colab": {
     "base_uri": "https://localhost:8080/",
     "height": 35
    },
    "colab_type": "code",
    "executionInfo": {
     "elapsed": 861,
     "status": "ok",
     "timestamp": 1547330720044,
     "user": {
      "displayName": "halil ibrahim çelenli",
      "photoUrl": "https://lh5.googleusercontent.com/-5Qvr42waygs/AAAAAAAAAAI/AAAAAAAAB3U/8_RhbBZokq4/s64/photo.jpg",
      "userId": "10735351276472697566"
     },
     "user_tz": -180
    },
    "id": "t96iYzLo9RZc",
    "outputId": "101b84e1-afcc-4c39-f8a1-1ac26fd3a7a9"
   },
   "outputs": [
    {
     "name": "stdout",
     "output_type": "stream",
     "text": [
      "[41, 7300, 547, 7301, 7302, 264, 15, 292, 547, 298, 1499, 7]\n"
     ]
    }
   ],
   "source": [
    "print(x_train_tokens[800])"
   ]
  },
  {
   "cell_type": "code",
   "execution_count": 0,
   "metadata": {
    "colab": {},
    "colab_type": "code",
    "collapsed": true,
    "id": "6NK09UrZ9RcC"
   },
   "outputs": [],
   "source": [
    "x_test_tokens = tokenizer.texts_to_sequences(x_test)"
   ]
  },
  {
   "cell_type": "code",
   "execution_count": 0,
   "metadata": {
    "colab": {},
    "colab_type": "code",
    "collapsed": true,
    "id": "SUCfXrSU9Rej"
   },
   "outputs": [],
   "source": [
    "num_tokens = [len(tokens) for tokens in x_train_tokens + x_test_tokens]\n",
    "num_tokens = np.array(num_tokens)"
   ]
  },
  {
   "cell_type": "code",
   "execution_count": 0,
   "metadata": {
    "colab": {
     "base_uri": "https://localhost:8080/",
     "height": 35
    },
    "colab_type": "code",
    "executionInfo": {
     "elapsed": 1134,
     "status": "ok",
     "timestamp": 1547330728028,
     "user": {
      "displayName": "halil ibrahim çelenli",
      "photoUrl": "https://lh5.googleusercontent.com/-5Qvr42waygs/AAAAAAAAAAI/AAAAAAAAB3U/8_RhbBZokq4/s64/photo.jpg",
      "userId": "10735351276472697566"
     },
     "user_tz": -180
    },
    "id": "-AYUKQmK9Vd2",
    "outputId": "bc5d2fee-0086-4dd4-dfb3-411e05849522"
   },
   "outputs": [
    {
     "data": {
      "text/plain": [
       "12"
      ]
     },
     "execution_count": 43,
     "metadata": {
      "tags": []
     },
     "output_type": "execute_result"
    }
   ],
   "source": [
    "num_tokens[800]"
   ]
  },
  {
   "cell_type": "code",
   "execution_count": 0,
   "metadata": {
    "colab": {
     "base_uri": "https://localhost:8080/",
     "height": 35
    },
    "colab_type": "code",
    "executionInfo": {
     "elapsed": 1142,
     "status": "ok",
     "timestamp": 1547330731111,
     "user": {
      "displayName": "halil ibrahim çelenli",
      "photoUrl": "https://lh5.googleusercontent.com/-5Qvr42waygs/AAAAAAAAAAI/AAAAAAAAB3U/8_RhbBZokq4/s64/photo.jpg",
      "userId": "10735351276472697566"
     },
     "user_tz": -180
    },
    "id": "-byR6O749RhL",
    "outputId": "f248299f-c958-4d50-c38c-6fc6097a3e9b"
   },
   "outputs": [
    {
     "data": {
      "text/plain": [
       "21"
      ]
     },
     "execution_count": 44,
     "metadata": {
      "tags": []
     },
     "output_type": "execute_result"
    }
   ],
   "source": [
    "np.max(num_tokens)"
   ]
  },
  {
   "cell_type": "code",
   "execution_count": 0,
   "metadata": {
    "colab": {
     "base_uri": "https://localhost:8080/",
     "height": 35
    },
    "colab_type": "code",
    "executionInfo": {
     "elapsed": 1084,
     "status": "ok",
     "timestamp": 1547330734461,
     "user": {
      "displayName": "halil ibrahim çelenli",
      "photoUrl": "https://lh5.googleusercontent.com/-5Qvr42waygs/AAAAAAAAAAI/AAAAAAAAB3U/8_RhbBZokq4/s64/photo.jpg",
      "userId": "10735351276472697566"
     },
     "user_tz": -180
    },
    "id": "eZE5c5e79Rjf",
    "outputId": "ae46748b-9257-4368-d18d-30c34a6926ad"
   },
   "outputs": [
    {
     "data": {
      "text/plain": [
       "1104"
      ]
     },
     "execution_count": 45,
     "metadata": {
      "tags": []
     },
     "output_type": "execute_result"
    }
   ],
   "source": [
    "np.argmax(num_tokens)"
   ]
  },
  {
   "cell_type": "code",
   "execution_count": 0,
   "metadata": {
    "colab": {
     "base_uri": "https://localhost:8080/",
     "height": 35
    },
    "colab_type": "code",
    "executionInfo": {
     "elapsed": 1028,
     "status": "ok",
     "timestamp": 1547330758184,
     "user": {
      "displayName": "halil ibrahim çelenli",
      "photoUrl": "https://lh5.googleusercontent.com/-5Qvr42waygs/AAAAAAAAAAI/AAAAAAAAB3U/8_RhbBZokq4/s64/photo.jpg",
      "userId": "10735351276472697566"
     },
     "user_tz": -180
    },
    "id": "ojzydZF89Rl4",
    "outputId": "62018d10-07c7-4be3-ebda-6f1282dc416f"
   },
   "outputs": [
    {
     "data": {
      "text/plain": [
       "'kuzum bugun msj hakkım bıttı turkcel son dakka gol caktı bana msn ye gel gır gır yapalım ozledım sen samaya yapmayı'"
      ]
     },
     "execution_count": 48,
     "metadata": {
      "tags": []
     },
     "output_type": "execute_result"
    }
   ],
   "source": [
    "x_train[np.argmax(num_tokens)]"
   ]
  },
  {
   "cell_type": "code",
   "execution_count": 0,
   "metadata": {
    "colab": {},
    "colab_type": "code",
    "collapsed": true,
    "id": "vdRZIfxq9Rq5"
   },
   "outputs": [],
   "source": [
    "#You must equal your comments length to use rnn"
   ]
  },
  {
   "cell_type": "code",
   "execution_count": 0,
   "metadata": {
    "colab": {
     "base_uri": "https://localhost:8080/",
     "height": 35
    },
    "colab_type": "code",
    "executionInfo": {
     "elapsed": 1438,
     "status": "ok",
     "timestamp": 1547330765861,
     "user": {
      "displayName": "halil ibrahim çelenli",
      "photoUrl": "https://lh5.googleusercontent.com/-5Qvr42waygs/AAAAAAAAAAI/AAAAAAAAB3U/8_RhbBZokq4/s64/photo.jpg",
      "userId": "10735351276472697566"
     },
     "user_tz": -180
    },
    "id": "sDwoe0xB9Rtt",
    "outputId": "8402101c-627d-43a3-91ea-479fc0488e25"
   },
   "outputs": [
    {
     "data": {
      "text/plain": [
       "18"
      ]
     },
     "execution_count": 50,
     "metadata": {
      "tags": []
     },
     "output_type": "execute_result"
    }
   ],
   "source": [
    "max_tokens = np.mean(num_tokens) + 2 * np.std(num_tokens)\n",
    "max_tokens = int(max_tokens)\n",
    "max_tokens"
   ]
  },
  {
   "cell_type": "code",
   "execution_count": 0,
   "metadata": {
    "colab": {
     "base_uri": "https://localhost:8080/",
     "height": 35
    },
    "colab_type": "code",
    "executionInfo": {
     "elapsed": 1205,
     "status": "ok",
     "timestamp": 1547330770031,
     "user": {
      "displayName": "halil ibrahim çelenli",
      "photoUrl": "https://lh5.googleusercontent.com/-5Qvr42waygs/AAAAAAAAAAI/AAAAAAAAB3U/8_RhbBZokq4/s64/photo.jpg",
      "userId": "10735351276472697566"
     },
     "user_tz": -180
    },
    "id": "HTx0q1u39Roz",
    "outputId": "0b6c9872-65ea-46ba-e156-9089742e2485"
   },
   "outputs": [
    {
     "data": {
      "text/plain": [
       "0.9783333333333334"
      ]
     },
     "execution_count": 51,
     "metadata": {
      "tags": []
     },
     "output_type": "execute_result"
    }
   ],
   "source": [
    "#How many of the eighteen length comments are included?\n",
    "\n",
    "np.sum(num_tokens < max_tokens) / len(num_tokens)"
   ]
  },
  {
   "cell_type": "code",
   "execution_count": 0,
   "metadata": {
    "colab": {},
    "colab_type": "code",
    "collapsed": true,
    "id": "B5oZ2RX09Jpg"
   },
   "outputs": [],
   "source": [
    "x_train_pad = pad_sequences(x_train_tokens, maxlen=max_tokens)"
   ]
  },
  {
   "cell_type": "code",
   "execution_count": 0,
   "metadata": {
    "colab": {
     "base_uri": "https://localhost:8080/",
     "height": 71
    },
    "colab_type": "code",
    "executionInfo": {
     "elapsed": 1077,
     "status": "ok",
     "timestamp": 1547330777537,
     "user": {
      "displayName": "halil ibrahim çelenli",
      "photoUrl": "https://lh5.googleusercontent.com/-5Qvr42waygs/AAAAAAAAAAI/AAAAAAAAB3U/8_RhbBZokq4/s64/photo.jpg",
      "userId": "10735351276472697566"
     },
     "user_tz": -180
    },
    "id": "5QlQXJys9lMC",
    "outputId": "b67ca4cc-7f94-4b03-e083-d78124a04867"
   },
   "outputs": [
    {
     "name": "stdout",
     "output_type": "stream",
     "text": [
      "x_train_tokens : [394, 26, 1233, 9268, 656, 9269]\n",
      "x_train_pad : [   0    0    0    0    0    0    0    0    0    0    0    0  394   26\n",
      " 1233 9268  656 9269]\n"
     ]
    }
   ],
   "source": [
    "#Zero is added before the values given in the padding operation.\n",
    "\n",
    "print(\"x_train_tokens :\",x_train_tokens[0])\n",
    "print(\"x_train_pad :\",x_train_pad[0])"
   ]
  },
  {
   "cell_type": "code",
   "execution_count": 0,
   "metadata": {
    "colab": {},
    "colab_type": "code",
    "collapsed": true,
    "id": "_2tnImPp9lO7"
   },
   "outputs": [],
   "source": [
    "x_test_pad = pad_sequences(x_test_tokens, maxlen=max_tokens)"
   ]
  },
  {
   "cell_type": "code",
   "execution_count": 0,
   "metadata": {
    "colab": {
     "base_uri": "https://localhost:8080/",
     "height": 71
    },
    "colab_type": "code",
    "executionInfo": {
     "elapsed": 1064,
     "status": "ok",
     "timestamp": 1547330784279,
     "user": {
      "displayName": "halil ibrahim çelenli",
      "photoUrl": "https://lh5.googleusercontent.com/-5Qvr42waygs/AAAAAAAAAAI/AAAAAAAAB3U/8_RhbBZokq4/s64/photo.jpg",
      "userId": "10735351276472697566"
     },
     "user_tz": -180
    },
    "id": "kZl5ivkm9lRj",
    "outputId": "8c7a3ae9-0488-418d-dded-6149c9b005cd"
   },
   "outputs": [
    {
     "name": "stdout",
     "output_type": "stream",
     "text": [
      "x_test_tokens : [6200, 6201, 6202]\n",
      "x_train_pad : [   0    0    0    0    0    0    0    0    0    0    0    0    0    0\n",
      "    0 6200 6201 6202]\n"
     ]
    }
   ],
   "source": [
    "print(\"x_test_tokens :\",x_test_tokens[0])\n",
    "print(\"x_train_pad :\",x_test_pad[0])"
   ]
  },
  {
   "cell_type": "code",
   "execution_count": 0,
   "metadata": {
    "colab": {
     "base_uri": "https://localhost:8080/",
     "height": 53
    },
    "colab_type": "code",
    "executionInfo": {
     "elapsed": 914,
     "status": "ok",
     "timestamp": 1547330786806,
     "user": {
      "displayName": "halil ibrahim çelenli",
      "photoUrl": "https://lh5.googleusercontent.com/-5Qvr42waygs/AAAAAAAAAAI/AAAAAAAAB3U/8_RhbBZokq4/s64/photo.jpg",
      "userId": "10735351276472697566"
     },
     "user_tz": -180
    },
    "id": "gdErxxLq9lV7",
    "outputId": "dc62f88b-b9cc-4a26-80cb-6646a7ed2462"
   },
   "outputs": [
    {
     "name": "stdout",
     "output_type": "stream",
     "text": [
      "x_train_pad.shape : (2400, 18)\n",
      "x_train_pad.shape : (600, 18)\n"
     ]
    }
   ],
   "source": [
    "print(\"x_train_pad.shape :\",x_train_pad.shape)\n",
    "print(\"x_train_pad.shape :\",x_test_pad.shape)"
   ]
  },
  {
   "cell_type": "code",
   "execution_count": 0,
   "metadata": {
    "colab": {},
    "colab_type": "code",
    "collapsed": true,
    "id": "EV1ZZS3x9lUZ"
   },
   "outputs": [],
   "source": [
    "idx = tokenizer.word_index\n",
    "inverse_map = dict(zip(idx.values(), idx.keys()))"
   ]
  },
  {
   "cell_type": "code",
   "execution_count": 0,
   "metadata": {
    "colab": {},
    "colab_type": "code",
    "collapsed": true,
    "id": "NevcCdxO9rDE"
   },
   "outputs": [],
   "source": [
    "def tokens_to_string(tokens):\n",
    "    words = [inverse_map[token] for token in tokens if token!=0]\n",
    "    text = ' '.join(words)\n",
    "    return text"
   ]
  },
  {
   "cell_type": "code",
   "execution_count": 0,
   "metadata": {
    "colab": {
     "base_uri": "https://localhost:8080/",
     "height": 35
    },
    "colab_type": "code",
    "executionInfo": {
     "elapsed": 1114,
     "status": "ok",
     "timestamp": 1547330911319,
     "user": {
      "displayName": "halil ibrahim çelenli",
      "photoUrl": "https://lh5.googleusercontent.com/-5Qvr42waygs/AAAAAAAAAAI/AAAAAAAAB3U/8_RhbBZokq4/s64/photo.jpg",
      "userId": "10735351276472697566"
     },
     "user_tz": -180
    },
    "id": "Xi_3rqyn9rHe",
    "outputId": "49906347-1366-4f19-f217-4088727b1672"
   },
   "outputs": [
    {
     "data": {
      "text/plain": [
       "'benim sorduğunuz tahmin sorularına yaklaşamayışım olacak kadar kötü tahmin yapan başkası var'"
      ]
     },
     "execution_count": 69,
     "metadata": {
      "tags": []
     },
     "output_type": "execute_result"
    }
   ],
   "source": [
    "x_train[800]"
   ]
  },
  {
   "cell_type": "code",
   "execution_count": 0,
   "metadata": {
    "colab": {
     "base_uri": "https://localhost:8080/",
     "height": 35
    },
    "colab_type": "code",
    "executionInfo": {
     "elapsed": 834,
     "status": "ok",
     "timestamp": 1547330913371,
     "user": {
      "displayName": "halil ibrahim çelenli",
      "photoUrl": "https://lh5.googleusercontent.com/-5Qvr42waygs/AAAAAAAAAAI/AAAAAAAAB3U/8_RhbBZokq4/s64/photo.jpg",
      "userId": "10735351276472697566"
     },
     "user_tz": -180
    },
    "id": "6gHDHIhg9rJ8",
    "outputId": "b6e4a0d5-8562-481a-a32e-bb07bd9c5287"
   },
   "outputs": [
    {
     "name": "stdout",
     "output_type": "stream",
     "text": [
      "[41, 7300, 547, 7301, 7302, 264, 15, 292, 547, 298, 1499, 7]\n"
     ]
    }
   ],
   "source": [
    "print(x_train_tokens[800])"
   ]
  },
  {
   "cell_type": "code",
   "execution_count": 0,
   "metadata": {
    "colab": {
     "base_uri": "https://localhost:8080/",
     "height": 35
    },
    "colab_type": "code",
    "executionInfo": {
     "elapsed": 840,
     "status": "ok",
     "timestamp": 1547330915648,
     "user": {
      "displayName": "halil ibrahim çelenli",
      "photoUrl": "https://lh5.googleusercontent.com/-5Qvr42waygs/AAAAAAAAAAI/AAAAAAAAB3U/8_RhbBZokq4/s64/photo.jpg",
      "userId": "10735351276472697566"
     },
     "user_tz": -180
    },
    "id": "rpxqhrDN9rFn",
    "outputId": "a6e99562-1b18-49bd-c908-fdaf38a7e8d8"
   },
   "outputs": [
    {
     "data": {
      "text/plain": [
       "'benim sorduğunuz tahmin sorularına yaklaşamayışım olacak kadar kötü tahmin yapan başkası var'"
      ]
     },
     "execution_count": 71,
     "metadata": {
      "tags": []
     },
     "output_type": "execute_result"
    }
   ],
   "source": [
    "tokens_to_string(x_train_tokens[800])"
   ]
  },
  {
   "cell_type": "code",
   "execution_count": 0,
   "metadata": {
    "colab": {},
    "colab_type": "code",
    "collapsed": true,
    "id": "3ITbHlqN96Vu"
   },
   "outputs": [],
   "source": [
    "#Embedding operations"
   ]
  },
  {
   "cell_type": "code",
   "execution_count": 0,
   "metadata": {
    "colab": {},
    "colab_type": "code",
    "collapsed": true,
    "id": "TE1QF5hB96Yd"
   },
   "outputs": [],
   "source": [
    "#Save word2vec format (not binary)\n",
    "\n",
    "\"\"\"\n",
    "model = Word2Vec(filtered_stopwords_list)\n",
    "model_save_location = \"3000tweets_notbinary\"\n",
    "model.wv.save_word2vec_format(model_save_location)\n",
    "\"\"\""
   ]
  },
  {
   "cell_type": "code",
   "execution_count": 0,
   "metadata": {
    "colab": {},
    "colab_type": "code",
    "collapsed": true,
    "id": "CrA-ocGC96bV"
   },
   "outputs": [],
   "source": [
    "model = Sequential()"
   ]
  },
  {
   "cell_type": "code",
   "execution_count": 0,
   "metadata": {
    "colab": {},
    "colab_type": "code",
    "collapsed": true,
    "id": "YhYIlJmw96eH"
   },
   "outputs": [],
   "source": [
    "embedding_size = 100 "
   ]
  },
  {
   "cell_type": "code",
   "execution_count": 0,
   "metadata": {
    "colab": {},
    "colab_type": "code",
    "collapsed": true,
    "id": "l5avhZ2596iY"
   },
   "outputs": [],
   "source": [
    "#Word2vec load(2.option) example\n",
    "\n",
    "word2vec = {}\n",
    "with open('3000tweets_notbinary', encoding='UTF-8') as f:\n",
    "    for line in f:\n",
    "        values = line.split()\n",
    "        word = values[0]\n",
    "        vec = np.asarray(values[1:], dtype='float32')\n",
    "        word2vec[word] = vec"
   ]
  },
  {
   "cell_type": "code",
   "execution_count": 0,
   "metadata": {
    "colab": {
     "base_uri": "https://localhost:8080/",
     "height": 71
    },
    "colab_type": "code",
    "executionInfo": {
     "elapsed": 1087,
     "status": "ok",
     "timestamp": 1547330928765,
     "user": {
      "displayName": "halil ibrahim çelenli",
      "photoUrl": "https://lh5.googleusercontent.com/-5Qvr42waygs/AAAAAAAAAAI/AAAAAAAAB3U/8_RhbBZokq4/s64/photo.jpg",
      "userId": "10735351276472697566"
     },
     "user_tz": -180
    },
    "id": "fRPs5xih96gu",
    "outputId": "a35f24ec-2991-413a-d339-737212d7b9f5"
   },
   "outputs": [
    {
     "name": "stdout",
     "output_type": "stream",
     "text": [
      "x_test[0] : lanet olası turkcell li olarak vallahi aynı nağmelerden sıkıldım lan üşenmesem sırf cıvık reklam geçicem\n",
      "x_test_pad[0] : [   0    0    0    0    0    0    0    0    0    0    0    0    0    0\n",
      "    0 6200 6201 6202]\n"
     ]
    }
   ],
   "source": [
    "print(\"x_test[0] :\",x_test[40])\n",
    "print(\"x_test_pad[0] :\",x_test_pad[0])"
   ]
  },
  {
   "cell_type": "code",
   "execution_count": 0,
   "metadata": {
    "colab": {},
    "colab_type": "code",
    "collapsed": true,
    "id": "svNB6scD-CNf"
   },
   "outputs": [],
   "source": [
    "num_words = len(list(tokenizer.word_index))"
   ]
  },
  {
   "cell_type": "code",
   "execution_count": 0,
   "metadata": {
    "colab": {},
    "colab_type": "code",
    "collapsed": true,
    "id": "lY_RTmAW-Ep3"
   },
   "outputs": [],
   "source": [
    "embedding_matrix = np.random.uniform(-1, 1, (num_words, embedding_size))\n",
    "for word, i in tokenizer.word_index.items():\n",
    "    if i < num_words:\n",
    "        embedding_vector = word2vec.get(word)\n",
    "        if embedding_vector is not None:\n",
    "            embedding_matrix[i] = embedding_vector"
   ]
  },
  {
   "cell_type": "code",
   "execution_count": 0,
   "metadata": {
    "colab": {
     "base_uri": "https://localhost:8080/",
     "height": 35
    },
    "colab_type": "code",
    "executionInfo": {
     "elapsed": 844,
     "status": "ok",
     "timestamp": 1547330936286,
     "user": {
      "displayName": "halil ibrahim çelenli",
      "photoUrl": "https://lh5.googleusercontent.com/-5Qvr42waygs/AAAAAAAAAAI/AAAAAAAAB3U/8_RhbBZokq4/s64/photo.jpg",
      "userId": "10735351276472697566"
     },
     "user_tz": -180
    },
    "id": "VzxewKfj-CSv",
    "outputId": "f73fe5c3-65eb-4075-ccfe-5112991f9975"
   },
   "outputs": [
    {
     "data": {
      "text/plain": [
       "(11905, 100)"
      ]
     },
     "execution_count": 79,
     "metadata": {
      "tags": []
     },
     "output_type": "execute_result"
    }
   ],
   "source": [
    "embedding_matrix.shape"
   ]
  },
  {
   "cell_type": "code",
   "execution_count": 0,
   "metadata": {
    "colab": {
     "base_uri": "https://localhost:8080/",
     "height": 379
    },
    "colab_type": "code",
    "executionInfo": {
     "elapsed": 1065,
     "status": "ok",
     "timestamp": 1547330938790,
     "user": {
      "displayName": "halil ibrahim çelenli",
      "photoUrl": "https://lh5.googleusercontent.com/-5Qvr42waygs/AAAAAAAAAAI/AAAAAAAAB3U/8_RhbBZokq4/s64/photo.jpg",
      "userId": "10735351276472697566"
     },
     "user_tz": -180
    },
    "id": "1m2PJraC-CVq",
    "outputId": "fed001b9-ef10-4bc9-956d-4f3b318c3824"
   },
   "outputs": [
    {
     "data": {
      "text/plain": [
       "array([ 0.08986612, -0.00983265, -0.06834069,  0.21036609,  0.12450906,\n",
       "        0.10021846, -0.14543779, -0.05969704,  0.01708784,  0.00408125,\n",
       "        0.11804756,  0.13679515, -0.08721917, -0.18287565, -0.04086864,\n",
       "        0.11032961, -0.05940395, -0.10572232, -0.01191167, -0.11670027,\n",
       "        0.04507362, -0.08680133,  0.06382117,  0.11812145,  0.06167458,\n",
       "       -0.09334848, -0.0218655 , -0.15539245, -0.2001535 , -0.09700425,\n",
       "       -0.03025606,  0.10673232, -0.07413075, -0.12416601, -0.06571722,\n",
       "        0.15431167,  0.03929737,  0.09869193,  0.17016847, -0.08498783,\n",
       "       -0.13190085, -0.11170611,  0.20067932, -0.01707822,  0.13537587,\n",
       "       -0.02854906, -0.25869036, -0.2436277 , -0.13429926, -0.10332574,\n",
       "       -0.13679075,  0.01509539, -0.11398716,  0.10181049,  0.23719978,\n",
       "       -0.07496728,  0.04676896,  0.04866217, -0.31362775,  0.04191856,\n",
       "        0.11699729, -0.15392013,  0.11405101,  0.09320572, -0.06823581,\n",
       "       -0.11526767,  0.09690311,  0.19448787,  0.04655581, -0.03985873,\n",
       "        0.09433003,  0.08744358, -0.18196535, -0.06026887, -0.1297318 ,\n",
       "        0.19689572,  0.02808033, -0.23116156, -0.05782082,  0.08946066,\n",
       "       -0.17616494,  0.11406746, -0.15093127,  0.0659005 ,  0.2352794 ,\n",
       "       -0.01293634,  0.13922337, -0.05992468,  0.08047828, -0.22582681,\n",
       "       -0.26361516,  0.18701963,  0.11334373,  0.1567329 ,  0.06536607,\n",
       "        0.10725611,  0.1177247 ,  0.10068008,  0.0477093 ,  0.22064877])"
      ]
     },
     "execution_count": 80,
     "metadata": {
      "tags": []
     },
     "output_type": "execute_result"
    }
   ],
   "source": [
    "embedding_matrix[3]"
   ]
  },
  {
   "cell_type": "code",
   "execution_count": 0,
   "metadata": {
    "colab": {},
    "colab_type": "code",
    "collapsed": true,
    "id": "PRQk7vcM-CQr"
   },
   "outputs": [],
   "source": [
    "#Model add word2vec embedding\n",
    "\n",
    "model.add(Embedding(input_dim=num_words,\n",
    "                    output_dim=embedding_size,\n",
    "                    weights= [embedding_matrix],\n",
    "                    input_length=max_tokens,        \n",
    "                    trainable=True,              #the layer is trained\n",
    "                    name='embedding_layer'))"
   ]
  },
  {
   "cell_type": "code",
   "execution_count": 0,
   "metadata": {
    "colab": {},
    "colab_type": "code",
    "collapsed": true,
    "id": "9DQe7C2k-JUd"
   },
   "outputs": [],
   "source": [
    "#Model add random embedding (not word2vec, fasttext vs.)\n",
    "\n",
    "\"\"\"\n",
    "model.add(Embedding(input_dim=num_words,\n",
    "                    output_dim=embedding_size,\n",
    "                    input_length=max_tokens,\n",
    "                    name='embedding_layer'))                   \n",
    "\"\"\""
   ]
  },
  {
   "cell_type": "code",
   "execution_count": 0,
   "metadata": {
    "colab": {},
    "colab_type": "code",
    "collapsed": true,
    "id": "rVapElS9-JX7"
   },
   "outputs": [],
   "source": [
    "model.add(CuDNNGRU(units=16, return_sequences=True))\n",
    "model.add(CuDNNGRU(units=8, return_sequences=True))\n",
    "model.add(CuDNNGRU(units=4))\n",
    "model.add(Dense(1, activation='softmax'))  \n"
   ]
  },
  {
   "cell_type": "code",
   "execution_count": 0,
   "metadata": {
    "colab": {},
    "colab_type": "code",
    "collapsed": true,
    "id": "rNHBPVnE-JdN"
   },
   "outputs": [],
   "source": [
    "optimizer = Adam(lr=1e-3)"
   ]
  },
  {
   "cell_type": "code",
   "execution_count": 0,
   "metadata": {
    "colab": {},
    "colab_type": "code",
    "collapsed": true,
    "id": "Oh8lVu8O-Jhy"
   },
   "outputs": [],
   "source": [
    "model.compile(loss='sparse_categorical_crossentropy',\n",
    "              optimizer=optimizer,\n",
    "              metrics=['accuracy'])"
   ]
  },
  {
   "cell_type": "code",
   "execution_count": 0,
   "metadata": {
    "colab": {
     "base_uri": "https://localhost:8080/",
     "height": 324
    },
    "colab_type": "code",
    "executionInfo": {
     "elapsed": 866,
     "status": "ok",
     "timestamp": 1547331433307,
     "user": {
      "displayName": "halil ibrahim çelenli",
      "photoUrl": "https://lh5.googleusercontent.com/-5Qvr42waygs/AAAAAAAAAAI/AAAAAAAAB3U/8_RhbBZokq4/s64/photo.jpg",
      "userId": "10735351276472697566"
     },
     "user_tz": -180
    },
    "id": "FrVxW2rq-KG3",
    "outputId": "f6f2fdd5-dc72-423c-e8ec-922f47328e46"
   },
   "outputs": [
    {
     "name": "stdout",
     "output_type": "stream",
     "text": [
      "_________________________________________________________________\n",
      "Layer (type)                 Output Shape              Param #   \n",
      "=================================================================\n",
      "embedding_layer (Embedding)  (None, 18, 100)           1190500   \n",
      "_________________________________________________________________\n",
      "cu_dnngru (CuDNNGRU)         (None, 18, 16)            5664      \n",
      "_________________________________________________________________\n",
      "cu_dnngru_1 (CuDNNGRU)       (None, 18, 8)             624       \n",
      "_________________________________________________________________\n",
      "cu_dnngru_2 (CuDNNGRU)       (None, 4)                 168       \n",
      "_________________________________________________________________\n",
      "dense (Dense)                (None, 1)                 5         \n",
      "=================================================================\n",
      "Total params: 1,196,961\n",
      "Trainable params: 1,196,961\n",
      "Non-trainable params: 0\n",
      "_________________________________________________________________\n"
     ]
    }
   ],
   "source": [
    "model.summary()"
   ]
  },
  {
   "cell_type": "code",
   "execution_count": 0,
   "metadata": {
    "colab": {},
    "colab_type": "code",
    "collapsed": true,
    "id": "RL1-pZnVH73c"
   },
   "outputs": [],
   "source": [
    "for i,j in enumerate(y_train):\n",
    "  y_train[i]=int(j)"
   ]
  },
  {
   "cell_type": "code",
   "execution_count": 0,
   "metadata": {
    "colab": {
     "base_uri": "https://localhost:8080/",
     "height": 453
    },
    "colab_type": "code",
    "executionInfo": {
     "elapsed": 6892,
     "status": "ok",
     "timestamp": 1547331443319,
     "user": {
      "displayName": "halil ibrahim çelenli",
      "photoUrl": "https://lh5.googleusercontent.com/-5Qvr42waygs/AAAAAAAAAAI/AAAAAAAAB3U/8_RhbBZokq4/s64/photo.jpg",
      "userId": "10735351276472697566"
     },
     "user_tz": -180
    },
    "id": "tGGBbgp9Hknc",
    "outputId": "27fdc3bd-af3b-406a-a0d7-fe908a6977cb"
   },
   "outputs": [
    {
     "name": "stderr",
     "output_type": "stream",
     "text": [
      "/usr/local/lib/python3.6/dist-packages/tensorflow/python/ops/gradients_impl.py:112: UserWarning: Converting sparse IndexedSlices to a dense Tensor of unknown shape. This may consume a large amount of memory.\n",
      "  \"Converting sparse IndexedSlices to a dense Tensor of unknown shape. \"\n"
     ]
    },
    {
     "name": "stdout",
     "output_type": "stream",
     "text": [
      "Epoch 1/10\n",
      "2400/2400 [==============================] - 3s 1ms/step - loss: nan - acc: 0.2521\n",
      "Epoch 2/10\n",
      "2400/2400 [==============================] - 0s 73us/step - loss: nan - acc: 0.2521\n",
      "Epoch 3/10\n",
      "2400/2400 [==============================] - 0s 76us/step - loss: nan - acc: 0.2521\n",
      "Epoch 4/10\n",
      "2400/2400 [==============================] - 0s 72us/step - loss: nan - acc: 0.2521\n",
      "Epoch 5/10\n",
      "2400/2400 [==============================] - 0s 73us/step - loss: nan - acc: 0.2521\n",
      "Epoch 6/10\n",
      "2400/2400 [==============================] - 0s 76us/step - loss: nan - acc: 0.2521\n",
      "Epoch 7/10\n",
      "2400/2400 [==============================] - 0s 75us/step - loss: nan - acc: 0.2521\n",
      "Epoch 8/10\n",
      "2400/2400 [==============================] - 0s 75us/step - loss: nan - acc: 0.2521\n",
      "Epoch 9/10\n",
      "2400/2400 [==============================] - 0s 73us/step - loss: nan - acc: 0.2521\n",
      "Epoch 10/10\n",
      "2400/2400 [==============================] - 0s 72us/step - loss: nan - acc: 0.2521\n"
     ]
    },
    {
     "data": {
      "text/plain": [
       "<tensorflow.python.keras.callbacks.History at 0x7fe5db53e400>"
      ]
     },
     "execution_count": 94,
     "metadata": {
      "tags": []
     },
     "output_type": "execute_result"
    }
   ],
   "source": [
    "model.fit(x_train_pad, y_train, epochs=10, batch_size=256)"
   ]
  }
 ],
 "metadata": {
  "accelerator": "GPU",
  "colab": {
   "collapsed_sections": [],
   "name": "gru_word2vec_tweets_classification.ipynb",
   "provenance": [],
   "version": "0.3.2"
  },
  "kernelspec": {
   "display_name": "Python 3",
   "language": "python",
   "name": "python3"
  },
  "language_info": {
   "codemirror_mode": {
    "name": "ipython",
    "version": 3
   },
   "file_extension": ".py",
   "mimetype": "text/x-python",
   "name": "python",
   "nbconvert_exporter": "python",
   "pygments_lexer": "ipython3",
   "version": "3.6.4"
  }
 },
 "nbformat": 4,
 "nbformat_minor": 1
}
